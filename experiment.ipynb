{
 "cells": [
  {
   "cell_type": "markdown",
   "metadata": {},
   "source": [
    "# Recommender System"
   ]
  },
  {
   "cell_type": "markdown",
   "metadata": {},
   "source": [
    "## ASL"
   ]
  },
  {
   "cell_type": "code",
   "execution_count": 1,
   "metadata": {
    "collapsed": true
   },
   "outputs": [],
   "source": [
    "import numpy as np\n",
    "import matplotlib.pyplot as plt\n",
    "#  从指定路径文件中加载数据\n",
    "def load_data(path):\n",
    "    rating_mat = np.zeros((943, 1682))     # 初始化评分矩阵\n",
    "    f = open(path)\n",
    "    for line in f.readlines():\n",
    "        nums = line.split(\"\\t\")                       # 按制表符划分\n",
    "        nums = [int(x) for x in nums]                 # 转化为数字\n",
    "        rating_mat[nums[0]-1][nums[1]-1] = nums[2]\n",
    "    f.close()\n",
    "    return rating_mat\n",
    "    \n",
    "    "
   ]
  },
  {
   "cell_type": "code",
   "execution_count": 2,
   "metadata": {
    "collapsed": true
   },
   "outputs": [],
   "source": [
    "#  固定 Q 更新 P \n",
    "def gradient(P, Q, R, λ):\n",
    "    row = P.shape[0]\n",
    "    for u in range(row):\n",
    "        b = R[u] != 0\n",
    "        n = R[u].sum()\n",
    "        P[u] = np.linalg.pinv(Q[b].T.dot(Q[b]) + λ).dot(Q.T.dot(R[u].reshape(1,-1).T)).ravel()\n",
    "    return P"
   ]
  },
  {
   "cell_type": "code",
   "execution_count": 3,
   "metadata": {
    "collapsed": true
   },
   "outputs": [],
   "source": [
    "# 计算均方根误差\n",
    "def Loss(P, Q, R):\n",
    "    b = R != 0\n",
    "    loss = np.sqrt(((R[b] - (P.dot(Q.T))[b])** 2).mean())\n",
    "    return loss"
   ]
  },
  {
   "cell_type": "code",
   "execution_count": 4,
   "metadata": {
    "collapsed": true
   },
   "outputs": [],
   "source": [
    "# 交替最小二乘\n",
    "def ALS(R_train, R_val):\n",
    "    K = 20             # 潜在特征数\n",
    "    λ = 149011611938476.56         # 正则化参数\n",
    "    iterations = 20    # 训练轮数\n",
    "    loss_train = []\n",
    "    loss_val = []\n",
    "    n_user, n_item = R_train.shape\n",
    "    np.random.normal\n",
    "    P = np.random.normal(0,0.1,(n_user, K))\n",
    "    Q = np.random.normal(0,0.1,(n_item, K))\n",
    "    for i in range(iterations):\n",
    "        P = gradient(P, Q, R_train, λ)\n",
    "        Q = gradient(Q, P, R_train.T, λ)\n",
    "        loss_t = Loss(P, Q, R_train)\n",
    "        loss_train.append(loss_t)\n",
    "        loss_v = Loss(P, Q, R_val)\n",
    "        loss_val.append(loss_v)\n",
    "    return loss_train,loss_val"
   ]
  },
  {
   "cell_type": "code",
   "execution_count": 5,
   "metadata": {
    "collapsed": false
   },
   "outputs": [
    {
     "data": {
      "image/png": "[encoded data removed]",
      "text/plain": [
       "<matplotlib.figure.Figure at 0x7de4f98>"
      ]
     },
     "metadata": {},
     "output_type": "display_data"
    }
   ],
   "source": [
    "R_train = load_data(\"ml-100k/u2.base\")\n",
    "R_val = load_data(\"ml-100k/u2.test\")\n",
    "loss_train, loss_val = ALS(R_train, R_val)\n",
    "x = len(loss_train)\n",
    "plt.figure()\n",
    "plt.title(\"Recommander System\")\n",
    "plt.xlabel(\"iterations\")\n",
    "plt.ylabel(\"loss\")\n",
    "plt.plot(range(x), loss_train, \"r\",label=\"train\")\n",
    "plt.plot(range(x), loss_val, \"b\",label=\"validation\")\n",
    "plt.legend(loc=\"upper right\")\n",
    "plt.show()"
   ]
  },
  {
   "cell_type": "markdown",
   "metadata": {},
   "source": [
    "## SGD"
   ]
  },
  {
   "cell_type": "code",
   "execution_count": 6,
   "metadata": {
    "collapsed": false
   },
   "outputs": [
    {
     "name": "stdout",
     "output_type": "stream",
     "text": [
      "epochs 10000validation loss 2.67737080127\n",
      "epochs 20000validation loss 1.03943060803\n",
      "epochs 30000validation loss 0.81448075984\n",
      "epochs 40000validation loss 0.821444543243\n",
      "epochs 50000validation loss 0.778736563257\n",
      "epochs 60000validation loss 0.759439571911\n",
      "epochs 70000validation loss 0.749441198382\n",
      "epochs 80000validation loss 0.757728676174\n",
      "epochs 90000validation loss 0.720691953151\n",
      "epochs 100000validation loss 0.750757005443\n"
     ]
    },
    {
     "data": {
      "image/png": "[encoded data removed]",
      "text/plain": [
       "<matplotlib.figure.Figure at 0xbd49908>"
      ]
     },
     "metadata": {},
     "output_type": "display_data"
    }
   ],
   "source": [
    "import pandas as pd\n",
    "import numpy as np\n",
    "import matplotlib.pyplot as plt\n",
    "\n",
    "#load data\n",
    "def load_data():\n",
    "    #load train data\n",
    "    for i in range(5):\n",
    "        #set the file name\n",
    "        file_name=\"ml-100k/u%d_base.csv\"%(i+1)\n",
    "        #read csv file\n",
    "        base=pd.read_csv(file_name,header=None)\n",
    "        #extract the first three columns\n",
    "        base=base.iloc[:,:3]\n",
    "        #transform into array\n",
    "        base=np.array(base)\n",
    "        #if i=0,initialize a container\n",
    "        if i==0:\n",
    "            train_data=base\n",
    "            continue\n",
    "        #else put the data into the container\n",
    "        train_data=np.vstack((train_data,base))\n",
    "    \n",
    "    #load validation data\n",
    "    for i in range(5):\n",
    "        #set the file name\n",
    "        file_name=\"ml-100k/u%d_test.csv\"%(i+1)\n",
    "        #read csv file\n",
    "        base=pd.read_csv(file_name,header=None)\n",
    "        #extract the first three columns\n",
    "        base=base.iloc[:,:3]\n",
    "        #transform into array\n",
    "        base=np.array(base)\n",
    "        #if i=0,initialize a container\n",
    "        if i==0:\n",
    "            validation_data=base\n",
    "            continue\n",
    "        #else put the data into the container\n",
    "        validation_data=np.vstack((validation_data,base))\n",
    "    \n",
    "    return train_data,validation_data\n",
    "\n",
    "#calculate the gradient\n",
    "#return value is the gradient of p,lamb is the penalty factor,y_truth is the true value\n",
    "def gradient(lamb,y_truth,p,q):\n",
    "    #calculate the predict\n",
    "    y_pred=np.dot(p,q.T)\n",
    "    #get the gradient\n",
    "    grad=-(y_truth-y_pred)*q+lamb*p\n",
    "    #return the gradient\n",
    "    return grad\n",
    "    \n",
    "#calculate the loss\n",
    "def loss(rate_matrix,validation_data):\n",
    "    #initialize the loss\n",
    "    square_error=0\n",
    "    #sum square error of each sample\n",
    "    for i in range(len(validation_data)):\n",
    "        #get the row index\n",
    "        row_index=validation_data[i,0]-1\n",
    "        #get the column index\n",
    "        column_index=validation_data[i,1]-1\n",
    "        #calculate the error\n",
    "        error=((rate_matrix[row_index,column_index]-validation_data[i,2])**2)/2\n",
    "        #sum the error\n",
    "        square_error=square_error+error\n",
    "    \n",
    "    return square_error/len(validation_data)\n",
    "    \n",
    "#load experimental data\n",
    "train_data,validation_data=load_data()\n",
    "\n",
    "#initialize the hyper-parameters\n",
    "#set the number of epochs\n",
    "epochs=100000\n",
    "#set the number of hidden features\n",
    "K=20\n",
    "#set the learning rate\n",
    "learning_rate=0.1\n",
    "#set the penalty factor\n",
    "lamb=0.5\n",
    "#initialize the user factor matrix\n",
    "user_factor=np.random.normal(0,0.1,(943,K))\n",
    "#initialize the item factor matrix\n",
    "item_factor=np.random.normal(0,0.1,(1682,K))\n",
    "\n",
    "#initialize the container for error\n",
    "train_losses=[]\n",
    "validation_losses=[]\n",
    "\n",
    "#optimize the model using stochastic gradient descent\n",
    "for i in range(epochs):\n",
    "    #generate a random index of train sample\n",
    "    sample_index=np.random.randint(0,400000)\n",
    "    #get the row index and the column index\n",
    "    row_index=train_data[sample_index,0]-1\n",
    "    column_index=train_data[sample_index,1]-1\n",
    "    #get the true rate\n",
    "    y_truth=train_data[sample_index,2]\n",
    "    \n",
    "    #get the gradient of user factor matrix\n",
    "    grad_user_factor=gradient(lamb,y_truth,user_factor[row_index],item_factor[column_index])\n",
    "    #get the gradient of item factor matrix\n",
    "    grad_item_factor=gradient(lamb,y_truth,item_factor[column_index],user_factor[row_index])\n",
    "    #update the user factor matrix\n",
    "    user_factor[row_index]=user_factor[row_index]-learning_rate*grad_user_factor\n",
    "    #update the item factor matrix\n",
    "    item_factor[column_index]=item_factor[column_index]-learning_rate*grad_item_factor\n",
    "    \n",
    "    #log every 10000 epochs\n",
    "    if(i%10000==9999):\n",
    "        #calculate the rate matrix\n",
    "        temp_rate_matrix=np.dot(user_factor,item_factor.T)\n",
    "        #get the train loss and the validation loss\n",
    "        train_loss=loss(temp_rate_matrix,train_data)\n",
    "        validation_loss=loss(temp_rate_matrix,validation_data)\n",
    "        #put the error into the container\n",
    "        train_losses.append(train_loss)\n",
    "        validation_losses.append(validation_loss)\n",
    "        #print the loss\n",
    "        print(\"epochs \"+str(i+1)+\"validation loss \"+str(validation_loss))\n",
    "\n",
    "#draw graph of validation loss\n",
    "x_axis=np.arange(len(train_losses))*10000\n",
    "plt.plot(x_axis,train_losses,'r*-',label='Train Loss')\n",
    "plt.plot(x_axis,validation_losses,'b+-',label='Validation Loss')\n",
    "#set labels\n",
    "plt.xlabel(\"Epochs\")\n",
    "plt.ylabel(\"Loss\")\n",
    "#show the legend\n",
    "plt.legend()\n",
    "#show the graph\n",
    "plt.show()"
   ]
  },
  {
   "cell_type": "code",
   "execution_count": null,
   "metadata": {
    "collapsed": true
   },
   "outputs": [],
   "source": []
  }
 ],
 "metadata": {
  "kernelspec": {
   "display_name": "Python 3",
   "language": "python",
   "name": "python3"
  },
  "language_info": {
   "codemirror_mode": {
    "name": "ipython",
    "version": 3
   },
   "file_extension": ".py",
   "mimetype": "text/x-python",
   "name": "python",
   "nbconvert_exporter": "python",
   "pygments_lexer": "ipython3",
   "version": "3.6.0"
  }
 },
 "nbformat": 4,
 "nbformat_minor": 2
}
